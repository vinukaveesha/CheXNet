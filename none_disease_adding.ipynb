{
 "cells": [
  {
   "cell_type": "code",
   "execution_count": 4,
   "metadata": {},
   "outputs": [],
   "source": [
    "import pandas as pd\n",
    "\n",
    "# Define class names and initialize an empty list for storing data\n",
    "CLASS_NAMES = ['Atelectasis', 'Cardiomegaly', 'Effusion', 'Infiltration', 'Mass', 'Nodule', 'Pneumonia',\n",
    "               'Pneumothorax', 'Consolidation', 'Edema', 'Emphysema', 'Fibrosis', 'Pleural_Thickening', 'Hernia']\n",
    "# label_files = [\"train_list.txt\", \"val_list.txt\", \"test_list.txt\"]\n",
    "\n",
    "label_files = [\"train_list.txt\"]\n",
    "\n",
    "data = []"
   ]
  },
  {
   "cell_type": "code",
   "execution_count": 5,
   "metadata": {},
   "outputs": [],
   "source": [
    "# Function to process each label file\n",
    "def process_label_file(file_name):\n",
    "    with open(file_name, 'r') as file:\n",
    "        for line in file:\n",
    "            parts = line.strip().split()\n",
    "            img_name = parts[0]\n",
    "            labels = list(map(int, parts[1:]))\n",
    "            assert len(labels) == len(CLASS_NAMES), \"Label count does not match class names count\"\n",
    "            # Determine if 'None_Of_these_diseases' should be '1'\n",
    "            none_of_these_diseases = 1 if sum(labels) == 0 else 0\n",
    "            data.append([img_name] + labels + [none_of_these_diseases])"
   ]
  },
  {
   "cell_type": "code",
   "execution_count": 6,
   "metadata": {},
   "outputs": [],
   "source": [
    "# Process all label files\n",
    "for label_file in label_files:\n",
    "    process_label_file(label_file)"
   ]
  },
  {
   "cell_type": "code",
   "execution_count": 7,
   "metadata": {},
   "outputs": [],
   "source": [
    "# Create DataFrame and save to CSV\n",
    "df = pd.DataFrame(data, columns=['Image_Name'] + CLASS_NAMES + ['None_Of_these_diseases'])\n",
    "df.to_csv('traning_only_labels.csv', index=False)"
   ]
  }
 ],
 "metadata": {
  "kernelspec": {
   "display_name": "venv",
   "language": "python",
   "name": "python3"
  },
  "language_info": {
   "codemirror_mode": {
    "name": "ipython",
    "version": 3
   },
   "file_extension": ".py",
   "mimetype": "text/x-python",
   "name": "python",
   "nbconvert_exporter": "python",
   "pygments_lexer": "ipython3",
   "version": "3.11.5"
  }
 },
 "nbformat": 4,
 "nbformat_minor": 2
}
